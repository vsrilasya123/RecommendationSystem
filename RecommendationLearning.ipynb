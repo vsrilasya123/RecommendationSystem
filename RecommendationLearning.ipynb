{
  "nbformat": 4,
  "nbformat_minor": 0,
  "metadata": {
    "colab": {
      "name": "Product recommendatio_MatrixFactorization",
      "provenance": [],
      "collapsed_sections": []
    },
    "kernelspec": {
      "name": "python3",
      "display_name": "Python 3"
    },
    "language_info": {
      "name": "python"
    }
  },
  "cells": [
    {
      "cell_type": "code",
      "execution_count": 1,
      "metadata": {
        "colab": {
          "base_uri": "https://localhost:8080/"
        },
        "id": "KV4-uGUHLvbj",
        "outputId": "1d1e861c-c50c-4722-b5cb-667e2a204253"
      },
      "outputs": [
        {
          "output_type": "stream",
          "name": "stdout",
          "text": [
            "Collecting surprise\n",
            "  Downloading surprise-0.1-py2.py3-none-any.whl (1.8 kB)\n",
            "Collecting scikit-surprise\n",
            "  Downloading scikit-surprise-1.1.1.tar.gz (11.8 MB)\n",
            "\u001b[K     |████████████████████████████████| 11.8 MB 4.3 MB/s \n",
            "\u001b[?25hRequirement already satisfied: joblib>=0.11 in /usr/local/lib/python3.7/dist-packages (from scikit-surprise->surprise) (1.1.0)\n",
            "Requirement already satisfied: numpy>=1.11.2 in /usr/local/lib/python3.7/dist-packages (from scikit-surprise->surprise) (1.21.5)\n",
            "Requirement already satisfied: scipy>=1.0.0 in /usr/local/lib/python3.7/dist-packages (from scikit-surprise->surprise) (1.4.1)\n",
            "Requirement already satisfied: six>=1.10.0 in /usr/local/lib/python3.7/dist-packages (from scikit-surprise->surprise) (1.15.0)\n",
            "Building wheels for collected packages: scikit-surprise\n",
            "  Building wheel for scikit-surprise (setup.py) ... \u001b[?25l\u001b[?25hdone\n",
            "  Created wheel for scikit-surprise: filename=scikit_surprise-1.1.1-cp37-cp37m-linux_x86_64.whl size=1630232 sha256=2a206566fc7a72c93ef3dad39ed8bce6388ab5d5191e268e17bde3dee0952a81\n",
            "  Stored in directory: /root/.cache/pip/wheels/76/44/74/b498c42be47b2406bd27994e16c5188e337c657025ab400c1c\n",
            "Successfully built scikit-surprise\n",
            "Installing collected packages: scikit-surprise, surprise\n",
            "Successfully installed scikit-surprise-1.1.1 surprise-0.1\n",
            "Requirement already satisfied: openpyxl in /usr/local/lib/python3.7/dist-packages (3.0.9)\n",
            "Requirement already satisfied: et-xmlfile in /usr/local/lib/python3.7/dist-packages (from openpyxl) (1.1.0)\n"
          ]
        }
      ],
      "source": [
        "!pip install surprise\n",
        "import pandas as pd\n",
        "!pip install openpyxl\n",
        "from surprise import Reader, SVD, Dataset, accuracy\n",
        "from surprise.model_selection import GridSearchCV, train_test_split, cross_validate\n",
        "pd.set_option('display.max_columns', None)"
      ]
    },
    {
      "cell_type": "code",
      "source": [
        "raw=pd.read_csv('/content/FinalCapistoneDataCSV_mydata.csv',usecols=['Category','Product Name','Product ID ','Ratings ','Customer ID','Order ID'],encoding = \"ISO-8859-1\", engine='python')\n",
        "df = raw.set_axis(['Category', 'ProductName', 'ProdID', 'Ratings', 'CustomerID','OrderID'], axis=1, inplace=False)"
      ],
      "metadata": {
        "id": "Vi9vzD9VMr04"
      },
      "execution_count": 6,
      "outputs": []
    },
    {
      "cell_type": "code",
      "source": [
        "product_ids = [202229578,202229553,202229514,202229490,202229415]\n",
        "products = [\"Pizza Pasta Seasoning\",\"Piri Piri\",\"Perfume Deluxe - Royale Fabric Conditioner\",\"Cheese Slices - Made From Cow Milk\",\"Chicken Seekh Kebab\"]"
      ],
      "metadata": {
        "id": "1HctL8yLOO2H"
      },
      "execution_count": 7,
      "outputs": []
    },
    {
      "cell_type": "code",
      "source": [
        "sample_df = df[df.ProdID.isin(product_ids)]\n",
        "sample_df.shape"
      ],
      "metadata": {
        "colab": {
          "base_uri": "https://localhost:8080/"
        },
        "id": "Nk_z-f0cQRum",
        "outputId": "2053770a-5dce-4789-cd28-2f3bdc235fa3"
      },
      "execution_count": 8,
      "outputs": [
        {
          "output_type": "execute_result",
          "data": {
            "text/plain": [
              "(3653, 6)"
            ]
          },
          "metadata": {},
          "execution_count": 8
        }
      ]
    },
    {
      "cell_type": "code",
      "source": [
        "sample_df.head()"
      ],
      "metadata": {
        "colab": {
          "base_uri": "https://localhost:8080/",
          "height": 206
        },
        "id": "AtPVnmnuXJ18",
        "outputId": "44855b47-bd76-4bd0-8704-33d67c2468bd"
      },
      "execution_count": 9,
      "outputs": [
        {
          "output_type": "execute_result",
          "data": {
            "text/plain": [
              "                    Category                                 ProductName  \\\n",
              "17414   Snacks Branded Foods                         Chicken Seekh Kebab   \n",
              "17489     Bakery Cakes Dairy          Cheese Slices - Made From Cow Milk   \n",
              "17513     Cleaning Household  Perfume Deluxe - Royale Fabric Conditioner   \n",
              "17552  Foodgrains Oil Masala                                   Piri Piri   \n",
              "17577  Foodgrains Oil Masala                       Pizza Pasta Seasoning   \n",
              "\n",
              "          ProdID  Ratings  CustomerID  OrderID  \n",
              "17414  202229415      3.2       27415     3483  \n",
              "17489  202229490      3.0       27490     3498  \n",
              "17513  202229514      4.0       27514     3503  \n",
              "17552  202229553      2.8       27553     3511  \n",
              "17577  202229578      4.7       27578     3516  "
            ],
            "text/html": [
              "\n",
              "  <div id=\"df-9f9bc6fd-229e-42ac-8702-87b8634d5bce\">\n",
              "    <div class=\"colab-df-container\">\n",
              "      <div>\n",
              "<style scoped>\n",
              "    .dataframe tbody tr th:only-of-type {\n",
              "        vertical-align: middle;\n",
              "    }\n",
              "\n",
              "    .dataframe tbody tr th {\n",
              "        vertical-align: top;\n",
              "    }\n",
              "\n",
              "    .dataframe thead th {\n",
              "        text-align: right;\n",
              "    }\n",
              "</style>\n",
              "<table border=\"1\" class=\"dataframe\">\n",
              "  <thead>\n",
              "    <tr style=\"text-align: right;\">\n",
              "      <th></th>\n",
              "      <th>Category</th>\n",
              "      <th>ProductName</th>\n",
              "      <th>ProdID</th>\n",
              "      <th>Ratings</th>\n",
              "      <th>CustomerID</th>\n",
              "      <th>OrderID</th>\n",
              "    </tr>\n",
              "  </thead>\n",
              "  <tbody>\n",
              "    <tr>\n",
              "      <th>17414</th>\n",
              "      <td>Snacks Branded Foods</td>\n",
              "      <td>Chicken Seekh Kebab</td>\n",
              "      <td>202229415</td>\n",
              "      <td>3.2</td>\n",
              "      <td>27415</td>\n",
              "      <td>3483</td>\n",
              "    </tr>\n",
              "    <tr>\n",
              "      <th>17489</th>\n",
              "      <td>Bakery Cakes Dairy</td>\n",
              "      <td>Cheese Slices - Made From Cow Milk</td>\n",
              "      <td>202229490</td>\n",
              "      <td>3.0</td>\n",
              "      <td>27490</td>\n",
              "      <td>3498</td>\n",
              "    </tr>\n",
              "    <tr>\n",
              "      <th>17513</th>\n",
              "      <td>Cleaning Household</td>\n",
              "      <td>Perfume Deluxe - Royale Fabric Conditioner</td>\n",
              "      <td>202229514</td>\n",
              "      <td>4.0</td>\n",
              "      <td>27514</td>\n",
              "      <td>3503</td>\n",
              "    </tr>\n",
              "    <tr>\n",
              "      <th>17552</th>\n",
              "      <td>Foodgrains Oil Masala</td>\n",
              "      <td>Piri Piri</td>\n",
              "      <td>202229553</td>\n",
              "      <td>2.8</td>\n",
              "      <td>27553</td>\n",
              "      <td>3511</td>\n",
              "    </tr>\n",
              "    <tr>\n",
              "      <th>17577</th>\n",
              "      <td>Foodgrains Oil Masala</td>\n",
              "      <td>Pizza Pasta Seasoning</td>\n",
              "      <td>202229578</td>\n",
              "      <td>4.7</td>\n",
              "      <td>27578</td>\n",
              "      <td>3516</td>\n",
              "    </tr>\n",
              "  </tbody>\n",
              "</table>\n",
              "</div>\n",
              "      <button class=\"colab-df-convert\" onclick=\"convertToInteractive('df-9f9bc6fd-229e-42ac-8702-87b8634d5bce')\"\n",
              "              title=\"Convert this dataframe to an interactive table.\"\n",
              "              style=\"display:none;\">\n",
              "        \n",
              "  <svg xmlns=\"http://www.w3.org/2000/svg\" height=\"24px\"viewBox=\"0 0 24 24\"\n",
              "       width=\"24px\">\n",
              "    <path d=\"M0 0h24v24H0V0z\" fill=\"none\"/>\n",
              "    <path d=\"M18.56 5.44l.94 2.06.94-2.06 2.06-.94-2.06-.94-.94-2.06-.94 2.06-2.06.94zm-11 1L8.5 8.5l.94-2.06 2.06-.94-2.06-.94L8.5 2.5l-.94 2.06-2.06.94zm10 10l.94 2.06.94-2.06 2.06-.94-2.06-.94-.94-2.06-.94 2.06-2.06.94z\"/><path d=\"M17.41 7.96l-1.37-1.37c-.4-.4-.92-.59-1.43-.59-.52 0-1.04.2-1.43.59L10.3 9.45l-7.72 7.72c-.78.78-.78 2.05 0 2.83L4 21.41c.39.39.9.59 1.41.59.51 0 1.02-.2 1.41-.59l7.78-7.78 2.81-2.81c.8-.78.8-2.07 0-2.86zM5.41 20L4 18.59l7.72-7.72 1.47 1.35L5.41 20z\"/>\n",
              "  </svg>\n",
              "      </button>\n",
              "      \n",
              "  <style>\n",
              "    .colab-df-container {\n",
              "      display:flex;\n",
              "      flex-wrap:wrap;\n",
              "      gap: 12px;\n",
              "    }\n",
              "\n",
              "    .colab-df-convert {\n",
              "      background-color: #E8F0FE;\n",
              "      border: none;\n",
              "      border-radius: 50%;\n",
              "      cursor: pointer;\n",
              "      display: none;\n",
              "      fill: #1967D2;\n",
              "      height: 32px;\n",
              "      padding: 0 0 0 0;\n",
              "      width: 32px;\n",
              "    }\n",
              "\n",
              "    .colab-df-convert:hover {\n",
              "      background-color: #E2EBFA;\n",
              "      box-shadow: 0px 1px 2px rgba(60, 64, 67, 0.3), 0px 1px 3px 1px rgba(60, 64, 67, 0.15);\n",
              "      fill: #174EA6;\n",
              "    }\n",
              "\n",
              "    [theme=dark] .colab-df-convert {\n",
              "      background-color: #3B4455;\n",
              "      fill: #D2E3FC;\n",
              "    }\n",
              "\n",
              "    [theme=dark] .colab-df-convert:hover {\n",
              "      background-color: #434B5C;\n",
              "      box-shadow: 0px 1px 3px 1px rgba(0, 0, 0, 0.15);\n",
              "      filter: drop-shadow(0px 1px 2px rgba(0, 0, 0, 0.3));\n",
              "      fill: #FFFFFF;\n",
              "    }\n",
              "  </style>\n",
              "\n",
              "      <script>\n",
              "        const buttonEl =\n",
              "          document.querySelector('#df-9f9bc6fd-229e-42ac-8702-87b8634d5bce button.colab-df-convert');\n",
              "        buttonEl.style.display =\n",
              "          google.colab.kernel.accessAllowed ? 'block' : 'none';\n",
              "\n",
              "        async function convertToInteractive(key) {\n",
              "          const element = document.querySelector('#df-9f9bc6fd-229e-42ac-8702-87b8634d5bce');\n",
              "          const dataTable =\n",
              "            await google.colab.kernel.invokeFunction('convertToInteractive',\n",
              "                                                     [key], {});\n",
              "          if (!dataTable) return;\n",
              "\n",
              "          const docLinkHtml = 'Like what you see? Visit the ' +\n",
              "            '<a target=\"_blank\" href=https://colab.research.google.com/notebooks/data_table.ipynb>data table notebook</a>'\n",
              "            + ' to learn more about interactive tables.';\n",
              "          element.innerHTML = '';\n",
              "          dataTable['output_type'] = 'display_data';\n",
              "          await google.colab.output.renderOutput(dataTable, element);\n",
              "          const docLink = document.createElement('div');\n",
              "          docLink.innerHTML = docLinkHtml;\n",
              "          element.appendChild(docLink);\n",
              "        }\n",
              "      </script>\n",
              "    </div>\n",
              "  </div>\n",
              "  "
            ]
          },
          "metadata": {},
          "execution_count": 9
        }
      ]
    },
    {
      "cell_type": "code",
      "source": [
        "#Creating customer_prod_df"
      ],
      "metadata": {
        "id": "7alj5c3rXRSS"
      },
      "execution_count": null,
      "outputs": []
    },
    {
      "cell_type": "code",
      "source": [
        "customer_prod_df = sample_df.pivot_table(index=[\"CustomerID\"], columns=[\"ProductName\"], values=\"Ratings\")\n",
        "customer_prod_df.shape"
      ],
      "metadata": {
        "colab": {
          "base_uri": "https://localhost:8080/"
        },
        "id": "zkBLJcohXVSC",
        "outputId": "b147764d-2a19-468a-bac7-33ae63edf2d7"
      },
      "execution_count": 10,
      "outputs": [
        {
          "output_type": "execute_result",
          "data": {
            "text/plain": [
              "(1073, 5)"
            ]
          },
          "metadata": {},
          "execution_count": 10
        }
      ]
    },
    {
      "cell_type": "code",
      "source": [
        "customer_prod_df.head()"
      ],
      "metadata": {
        "colab": {
          "base_uri": "https://localhost:8080/",
          "height": 299
        },
        "id": "PP8FzARpXkiv",
        "outputId": "1260d67e-82a1-47f1-da5d-ac2a01637673"
      },
      "execution_count": 11,
      "outputs": [
        {
          "output_type": "execute_result",
          "data": {
            "text/plain": [
              "ProductName  Cheese Slices - Made From Cow Milk  Chicken Seekh Kebab  \\\n",
              "CustomerID                                                             \n",
              "10001                                       NaN                  4.0   \n",
              "10002                                       NaN                  4.3   \n",
              "10003                                       NaN                  3.3   \n",
              "10004                                       NaN                  5.0   \n",
              "10005                                       NaN                  4.9   \n",
              "\n",
              "ProductName  Perfume Deluxe - Royale Fabric Conditioner  Piri Piri  \\\n",
              "CustomerID                                                           \n",
              "10001                                               4.0        NaN   \n",
              "10002                                               4.3        NaN   \n",
              "10003                                               3.3        NaN   \n",
              "10004                                               5.0        NaN   \n",
              "10005                                               4.9        NaN   \n",
              "\n",
              "ProductName  Pizza Pasta Seasoning  \n",
              "CustomerID                          \n",
              "10001                          4.0  \n",
              "10002                          4.3  \n",
              "10003                          3.3  \n",
              "10004                          5.0  \n",
              "10005                          4.9  "
            ],
            "text/html": [
              "\n",
              "  <div id=\"df-9d88873e-7989-4b96-9361-6111d7488fba\">\n",
              "    <div class=\"colab-df-container\">\n",
              "      <div>\n",
              "<style scoped>\n",
              "    .dataframe tbody tr th:only-of-type {\n",
              "        vertical-align: middle;\n",
              "    }\n",
              "\n",
              "    .dataframe tbody tr th {\n",
              "        vertical-align: top;\n",
              "    }\n",
              "\n",
              "    .dataframe thead th {\n",
              "        text-align: right;\n",
              "    }\n",
              "</style>\n",
              "<table border=\"1\" class=\"dataframe\">\n",
              "  <thead>\n",
              "    <tr style=\"text-align: right;\">\n",
              "      <th>ProductName</th>\n",
              "      <th>Cheese Slices - Made From Cow Milk</th>\n",
              "      <th>Chicken Seekh Kebab</th>\n",
              "      <th>Perfume Deluxe - Royale Fabric Conditioner</th>\n",
              "      <th>Piri Piri</th>\n",
              "      <th>Pizza Pasta Seasoning</th>\n",
              "    </tr>\n",
              "    <tr>\n",
              "      <th>CustomerID</th>\n",
              "      <th></th>\n",
              "      <th></th>\n",
              "      <th></th>\n",
              "      <th></th>\n",
              "      <th></th>\n",
              "    </tr>\n",
              "  </thead>\n",
              "  <tbody>\n",
              "    <tr>\n",
              "      <th>10001</th>\n",
              "      <td>NaN</td>\n",
              "      <td>4.0</td>\n",
              "      <td>4.0</td>\n",
              "      <td>NaN</td>\n",
              "      <td>4.0</td>\n",
              "    </tr>\n",
              "    <tr>\n",
              "      <th>10002</th>\n",
              "      <td>NaN</td>\n",
              "      <td>4.3</td>\n",
              "      <td>4.3</td>\n",
              "      <td>NaN</td>\n",
              "      <td>4.3</td>\n",
              "    </tr>\n",
              "    <tr>\n",
              "      <th>10003</th>\n",
              "      <td>NaN</td>\n",
              "      <td>3.3</td>\n",
              "      <td>3.3</td>\n",
              "      <td>NaN</td>\n",
              "      <td>3.3</td>\n",
              "    </tr>\n",
              "    <tr>\n",
              "      <th>10004</th>\n",
              "      <td>NaN</td>\n",
              "      <td>5.0</td>\n",
              "      <td>5.0</td>\n",
              "      <td>NaN</td>\n",
              "      <td>5.0</td>\n",
              "    </tr>\n",
              "    <tr>\n",
              "      <th>10005</th>\n",
              "      <td>NaN</td>\n",
              "      <td>4.9</td>\n",
              "      <td>4.9</td>\n",
              "      <td>NaN</td>\n",
              "      <td>4.9</td>\n",
              "    </tr>\n",
              "  </tbody>\n",
              "</table>\n",
              "</div>\n",
              "      <button class=\"colab-df-convert\" onclick=\"convertToInteractive('df-9d88873e-7989-4b96-9361-6111d7488fba')\"\n",
              "              title=\"Convert this dataframe to an interactive table.\"\n",
              "              style=\"display:none;\">\n",
              "        \n",
              "  <svg xmlns=\"http://www.w3.org/2000/svg\" height=\"24px\"viewBox=\"0 0 24 24\"\n",
              "       width=\"24px\">\n",
              "    <path d=\"M0 0h24v24H0V0z\" fill=\"none\"/>\n",
              "    <path d=\"M18.56 5.44l.94 2.06.94-2.06 2.06-.94-2.06-.94-.94-2.06-.94 2.06-2.06.94zm-11 1L8.5 8.5l.94-2.06 2.06-.94-2.06-.94L8.5 2.5l-.94 2.06-2.06.94zm10 10l.94 2.06.94-2.06 2.06-.94-2.06-.94-.94-2.06-.94 2.06-2.06.94z\"/><path d=\"M17.41 7.96l-1.37-1.37c-.4-.4-.92-.59-1.43-.59-.52 0-1.04.2-1.43.59L10.3 9.45l-7.72 7.72c-.78.78-.78 2.05 0 2.83L4 21.41c.39.39.9.59 1.41.59.51 0 1.02-.2 1.41-.59l7.78-7.78 2.81-2.81c.8-.78.8-2.07 0-2.86zM5.41 20L4 18.59l7.72-7.72 1.47 1.35L5.41 20z\"/>\n",
              "  </svg>\n",
              "      </button>\n",
              "      \n",
              "  <style>\n",
              "    .colab-df-container {\n",
              "      display:flex;\n",
              "      flex-wrap:wrap;\n",
              "      gap: 12px;\n",
              "    }\n",
              "\n",
              "    .colab-df-convert {\n",
              "      background-color: #E8F0FE;\n",
              "      border: none;\n",
              "      border-radius: 50%;\n",
              "      cursor: pointer;\n",
              "      display: none;\n",
              "      fill: #1967D2;\n",
              "      height: 32px;\n",
              "      padding: 0 0 0 0;\n",
              "      width: 32px;\n",
              "    }\n",
              "\n",
              "    .colab-df-convert:hover {\n",
              "      background-color: #E2EBFA;\n",
              "      box-shadow: 0px 1px 2px rgba(60, 64, 67, 0.3), 0px 1px 3px 1px rgba(60, 64, 67, 0.15);\n",
              "      fill: #174EA6;\n",
              "    }\n",
              "\n",
              "    [theme=dark] .colab-df-convert {\n",
              "      background-color: #3B4455;\n",
              "      fill: #D2E3FC;\n",
              "    }\n",
              "\n",
              "    [theme=dark] .colab-df-convert:hover {\n",
              "      background-color: #434B5C;\n",
              "      box-shadow: 0px 1px 3px 1px rgba(0, 0, 0, 0.15);\n",
              "      filter: drop-shadow(0px 1px 2px rgba(0, 0, 0, 0.3));\n",
              "      fill: #FFFFFF;\n",
              "    }\n",
              "  </style>\n",
              "\n",
              "      <script>\n",
              "        const buttonEl =\n",
              "          document.querySelector('#df-9d88873e-7989-4b96-9361-6111d7488fba button.colab-df-convert');\n",
              "        buttonEl.style.display =\n",
              "          google.colab.kernel.accessAllowed ? 'block' : 'none';\n",
              "\n",
              "        async function convertToInteractive(key) {\n",
              "          const element = document.querySelector('#df-9d88873e-7989-4b96-9361-6111d7488fba');\n",
              "          const dataTable =\n",
              "            await google.colab.kernel.invokeFunction('convertToInteractive',\n",
              "                                                     [key], {});\n",
              "          if (!dataTable) return;\n",
              "\n",
              "          const docLinkHtml = 'Like what you see? Visit the ' +\n",
              "            '<a target=\"_blank\" href=https://colab.research.google.com/notebooks/data_table.ipynb>data table notebook</a>'\n",
              "            + ' to learn more about interactive tables.';\n",
              "          element.innerHTML = '';\n",
              "          dataTable['output_type'] = 'display_data';\n",
              "          await google.colab.output.renderOutput(dataTable, element);\n",
              "          const docLink = document.createElement('div');\n",
              "          docLink.innerHTML = docLinkHtml;\n",
              "          element.appendChild(docLink);\n",
              "        }\n",
              "      </script>\n",
              "    </div>\n",
              "  </div>\n",
              "  "
            ]
          },
          "metadata": {},
          "execution_count": 11
        }
      ]
    },
    {
      "cell_type": "code",
      "source": [
        "# User-Item matrix is created with users in rows and movies in columns.\n",
        "\n",
        "# Here we scale the ratings to the 1-5 range with the Reader object."
      ],
      "metadata": {
        "id": "t5n8dFQdX8Eh"
      },
      "execution_count": null,
      "outputs": []
    },
    {
      "cell_type": "code",
      "source": [
        "reader = Reader(rating_scale=(1, 5))"
      ],
      "metadata": {
        "id": "WSmD43KwYBkz"
      },
      "execution_count": 12,
      "outputs": []
    },
    {
      "cell_type": "code",
      "source": [
        "data = Dataset.load_from_df(sample_df[['CustomerID', 'ProdID', 'Ratings']], reader)\n",
        "data"
      ],
      "metadata": {
        "colab": {
          "base_uri": "https://localhost:8080/"
        },
        "id": "YTz38JK3YDrE",
        "outputId": "a80020f2-1ea7-4ee2-c6c6-eb99bc819a30"
      },
      "execution_count": 14,
      "outputs": [
        {
          "output_type": "execute_result",
          "data": {
            "text/plain": [
              "<surprise.dataset.DatasetAutoFolds at 0x7fcbce07aed0>"
            ]
          },
          "metadata": {},
          "execution_count": 14
        }
      ]
    },
    {
      "cell_type": "code",
      "source": [
        "# In this library, Dataset.load is used to read data, similar to read.csv in pandas."
      ],
      "metadata": {
        "id": "mUpe1eiJYQSD"
      },
      "execution_count": null,
      "outputs": []
    },
    {
      "cell_type": "code",
      "source": [
        "trainset, testset = train_test_split(data, test_size=.25)\n",
        "svd_model = SVD()\n",
        "svd_model.fit(trainset)"
      ],
      "metadata": {
        "colab": {
          "base_uri": "https://localhost:8080/"
        },
        "id": "05DTNCk8YRac",
        "outputId": "6c2a0813-6841-46db-c626-e7418af692b6"
      },
      "execution_count": 15,
      "outputs": [
        {
          "output_type": "execute_result",
          "data": {
            "text/plain": [
              "<surprise.prediction_algorithms.matrix_factorization.SVD at 0x7fcbce679e90>"
            ]
          },
          "metadata": {},
          "execution_count": 15
        }
      ]
    },
    {
      "cell_type": "code",
      "source": [
        "# Unknown p and q matrices were learned from the existing data. It pretends to have 100 latent factors by default"
      ],
      "metadata": {
        "id": "IfCmQNnLYWGU"
      },
      "execution_count": null,
      "outputs": []
    },
    {
      "cell_type": "code",
      "source": [
        "predictions = svd_model.test(testset)\n",
        "\n",
        "accuracy.rmse(predictions)"
      ],
      "metadata": {
        "colab": {
          "base_uri": "https://localhost:8080/"
        },
        "id": "ARnWT-dwYXrH",
        "outputId": "aa49bcde-3c8d-4b8c-dab1-8ff16f95b851"
      },
      "execution_count": 16,
      "outputs": [
        {
          "output_type": "stream",
          "name": "stdout",
          "text": [
            "RMSE: 0.5204\n"
          ]
        },
        {
          "output_type": "execute_result",
          "data": {
            "text/plain": [
              "0.5203500148757839"
            ]
          },
          "metadata": {},
          "execution_count": 16
        }
      ]
    },
    {
      "cell_type": "code",
      "source": [
        "# We tested the learned weights with test data and found the RMSE(Root Mean Square Error ) and MAE(Mean Absolute Error) values.\n",
        "\n",
        "# Now we will apply cross validation method in order to validate th eresults."
      ],
      "metadata": {
        "id": "CZ3VdQL8ZNmM"
      },
      "execution_count": null,
      "outputs": []
    },
    {
      "cell_type": "code",
      "source": [
        "cross_validate(svd_model, data, measures=['RMSE', 'MAE'], cv=5, verbose=True)"
      ],
      "metadata": {
        "colab": {
          "base_uri": "https://localhost:8080/"
        },
        "id": "h9DPQtNOZQOl",
        "outputId": "e4593731-20a5-4b5a-a034-918f9c8bdaed"
      },
      "execution_count": 17,
      "outputs": [
        {
          "output_type": "stream",
          "name": "stdout",
          "text": [
            "Evaluating RMSE, MAE of algorithm SVD on 5 split(s).\n",
            "\n",
            "                  Fold 1  Fold 2  Fold 3  Fold 4  Fold 5  Mean    Std     \n",
            "RMSE (testset)    0.4681  0.4953  0.5249  0.4690  0.4962  0.4907  0.0210  \n",
            "MAE (testset)     0.3796  0.3993  0.4401  0.3870  0.4072  0.4026  0.0210  \n",
            "Fit time          0.15    0.14    0.15    0.15    0.14    0.15    0.00    \n",
            "Test time         0.00    0.00    0.01    0.00    0.00    0.01    0.00    \n"
          ]
        },
        {
          "output_type": "execute_result",
          "data": {
            "text/plain": [
              "{'fit_time': (0.15370821952819824,\n",
              "  0.14489340782165527,\n",
              "  0.1485586166381836,\n",
              "  0.14536356925964355,\n",
              "  0.14358305931091309),\n",
              " 'test_mae': array([0.37958604, 0.39928693, 0.44006847, 0.38696728, 0.40723491]),\n",
              " 'test_rmse': array([0.4680823 , 0.49527352, 0.52487328, 0.46896829, 0.49620183]),\n",
              " 'test_time': (0.004249095916748047,\n",
              "  0.0041620731353759766,\n",
              "  0.011564254760742188,\n",
              "  0.0042231082916259766,\n",
              "  0.004598140716552734)}"
            ]
          },
          "metadata": {},
          "execution_count": 17
        }
      ]
    },
    {
      "cell_type": "code",
      "source": [
        "# Let's try the svd_model, that we built, for user Id=1 and movie ID=202229415 (\"Chicken Seekh Kebab\"). Let the model give us a suggestion."
      ],
      "metadata": {
        "id": "sMf7q3dBZiff"
      },
      "execution_count": null,
      "outputs": []
    },
    {
      "cell_type": "code",
      "source": [
        "svd_model.predict(uid=27416.0, iid=202229415, verbose=True)"
      ],
      "metadata": {
        "colab": {
          "base_uri": "https://localhost:8080/"
        },
        "id": "3YVsFPkpZkZI",
        "outputId": "c43a94be-7fcb-45f8-c6e3-1ebaa29ab5ae"
      },
      "execution_count": 20,
      "outputs": [
        {
          "output_type": "stream",
          "name": "stdout",
          "text": [
            "user: 27416.0    item: 202229415  r_ui = None   est = 3.63   {'was_impossible': False}\n"
          ]
        },
        {
          "output_type": "execute_result",
          "data": {
            "text/plain": [
              "Prediction(uid=27416.0, iid=202229415, r_ui=None, est=3.6265537755149415, details={'was_impossible': False})"
            ]
          },
          "metadata": {},
          "execution_count": 20
        }
      ]
    },
    {
      "cell_type": "code",
      "source": [
        "# Normally, this user didn't rate this movie but we estimated it as 3.62"
      ],
      "metadata": {
        "id": "VTkVy0cCka8U"
      },
      "execution_count": null,
      "outputs": []
    },
    {
      "cell_type": "code",
      "source": [
        "param_grid = {'n_epochs': [5, 10], 'lr_all': [0.002, 0.005]}\n",
        "\n",
        "gs = GridSearchCV(SVD,\n",
        "                  param_grid,\n",
        "                  measures=['rmse', 'mae'],\n",
        "                  cv=3,\n",
        "                  n_jobs=-1,\n",
        "                  joblib_verbose=True)\n",
        "\n",
        "gs.fit(data)\n",
        "gs.best_score['rmse']"
      ],
      "metadata": {
        "colab": {
          "base_uri": "https://localhost:8080/"
        },
        "id": "hhGnpqjOkpvT",
        "outputId": "4ba45a02-3187-4c87-d1a9-b4fc0891e185"
      },
      "execution_count": 21,
      "outputs": [
        {
          "output_type": "stream",
          "name": "stderr",
          "text": [
            "[Parallel(n_jobs=-1)]: Using backend LokyBackend with 2 concurrent workers.\n",
            "[Parallel(n_jobs=-1)]: Done  12 out of  12 | elapsed:    2.1s finished\n"
          ]
        },
        {
          "output_type": "execute_result",
          "data": {
            "text/plain": [
              "0.7014215678087495"
            ]
          },
          "metadata": {},
          "execution_count": 21
        }
      ]
    },
    {
      "cell_type": "code",
      "source": [
        "# It was 0.70142 before tuning."
      ],
      "metadata": {
        "id": "H-TpRDJDkypl"
      },
      "execution_count": null,
      "outputs": []
    },
    {
      "cell_type": "code",
      "source": [
        "gs.best_params['rmse']"
      ],
      "metadata": {
        "colab": {
          "base_uri": "https://localhost:8080/"
        },
        "id": "ERzGdi1ak2yU",
        "outputId": "bcc4a0cb-c7a8-4601-b2d8-d951278daf55"
      },
      "execution_count": 22,
      "outputs": [
        {
          "output_type": "execute_result",
          "data": {
            "text/plain": [
              "{'lr_all': 0.005, 'n_epochs': 10}"
            ]
          },
          "metadata": {},
          "execution_count": 22
        }
      ]
    },
    {
      "cell_type": "code",
      "source": [
        "svd_model = SVD(**gs.best_params['rmse'])\n",
        "\n",
        "data = data.build_full_trainset()\n",
        "svd_model.fit(data)\n",
        "\n",
        "svd_model.predict(uid=27416.0, iid=202229415, verbose=True)"
      ],
      "metadata": {
        "colab": {
          "base_uri": "https://localhost:8080/"
        },
        "id": "9fc_3rZ0k9gh",
        "outputId": "238a2fe9-b84d-47ca-b222-d54d74b487af"
      },
      "execution_count": 23,
      "outputs": [
        {
          "output_type": "stream",
          "name": "stdout",
          "text": [
            "user: 27416.0    item: 202229415  r_ui = None   est = 3.63   {'was_impossible': False}\n"
          ]
        },
        {
          "output_type": "execute_result",
          "data": {
            "text/plain": [
              "Prediction(uid=27416.0, iid=202229415, r_ui=None, est=3.6256761624345453, details={'was_impossible': False})"
            ]
          },
          "metadata": {},
          "execution_count": 23
        }
      ]
    }
  ]
}